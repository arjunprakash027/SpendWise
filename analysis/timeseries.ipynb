{
 "cells": [
  {
   "cell_type": "code",
   "execution_count": 71,
   "metadata": {},
   "outputs": [],
   "source": [
    "import pandas as pd\n",
    "import numpy as np\n",
    "import matplotlib.pyplot as plt\n",
    "from statsmodels.graphics.tsaplots import plot_acf, plot_pacf\n",
    "from statsmodels.tsa.arima.model import ARIMA\n",
    "from statsmodels.tsa.arima.model import ARIMAResultsWrapper\n",
    "from statsmodels.tsa.stattools import adfuller"
   ]
  },
  {
   "cell_type": "code",
   "execution_count": 39,
   "metadata": {},
   "outputs": [],
   "source": [
    "df = pd.read_excel(r'D:\\projects\\SpendWise\\data_internal\\01-01-2024_31-12-2024.xls')"
   ]
  },
  {
   "cell_type": "code",
   "execution_count": 40,
   "metadata": {},
   "outputs": [],
   "source": [
    "df['Date'] = pd.to_datetime(pd.to_datetime(df['Date'], format='%d/%m/%Y %H:%M:%S').dt.date)\n",
    "df = df[['Date','Amount']]"
   ]
  },
  {
   "cell_type": "code",
   "execution_count": 41,
   "metadata": {},
   "outputs": [],
   "source": [
    "df = df.groupby('Date').sum()"
   ]
  },
  {
   "cell_type": "code",
   "execution_count": 42,
   "metadata": {},
   "outputs": [
    {
     "data": {
      "text/html": [
       "<div>\n",
       "<style scoped>\n",
       "    .dataframe tbody tr th:only-of-type {\n",
       "        vertical-align: middle;\n",
       "    }\n",
       "\n",
       "    .dataframe tbody tr th {\n",
       "        vertical-align: top;\n",
       "    }\n",
       "\n",
       "    .dataframe thead th {\n",
       "        text-align: right;\n",
       "    }\n",
       "</style>\n",
       "<table border=\"1\" class=\"dataframe\">\n",
       "  <thead>\n",
       "    <tr style=\"text-align: right;\">\n",
       "      <th></th>\n",
       "      <th>Amount</th>\n",
       "    </tr>\n",
       "    <tr>\n",
       "      <th>Date</th>\n",
       "      <th></th>\n",
       "    </tr>\n",
       "  </thead>\n",
       "  <tbody>\n",
       "    <tr>\n",
       "      <th>2024-03-01</th>\n",
       "      <td>15</td>\n",
       "    </tr>\n",
       "    <tr>\n",
       "      <th>2024-03-02</th>\n",
       "      <td>200</td>\n",
       "    </tr>\n",
       "    <tr>\n",
       "      <th>2024-03-04</th>\n",
       "      <td>550</td>\n",
       "    </tr>\n",
       "    <tr>\n",
       "      <th>2024-03-06</th>\n",
       "      <td>103</td>\n",
       "    </tr>\n",
       "    <tr>\n",
       "      <th>2024-03-09</th>\n",
       "      <td>2043</td>\n",
       "    </tr>\n",
       "    <tr>\n",
       "      <th>...</th>\n",
       "      <td>...</td>\n",
       "    </tr>\n",
       "    <tr>\n",
       "      <th>2024-06-25</th>\n",
       "      <td>1008</td>\n",
       "    </tr>\n",
       "    <tr>\n",
       "      <th>2024-06-27</th>\n",
       "      <td>190</td>\n",
       "    </tr>\n",
       "    <tr>\n",
       "      <th>2024-06-28</th>\n",
       "      <td>135</td>\n",
       "    </tr>\n",
       "    <tr>\n",
       "      <th>2024-06-29</th>\n",
       "      <td>240</td>\n",
       "    </tr>\n",
       "    <tr>\n",
       "      <th>2024-07-01</th>\n",
       "      <td>800</td>\n",
       "    </tr>\n",
       "  </tbody>\n",
       "</table>\n",
       "<p>80 rows × 1 columns</p>\n",
       "</div>"
      ],
      "text/plain": [
       "            Amount\n",
       "Date              \n",
       "2024-03-01      15\n",
       "2024-03-02     200\n",
       "2024-03-04     550\n",
       "2024-03-06     103\n",
       "2024-03-09    2043\n",
       "...            ...\n",
       "2024-06-25    1008\n",
       "2024-06-27     190\n",
       "2024-06-28     135\n",
       "2024-06-29     240\n",
       "2024-07-01     800\n",
       "\n",
       "[80 rows x 1 columns]"
      ]
     },
     "execution_count": 42,
     "metadata": {},
     "output_type": "execute_result"
    }
   ],
   "source": [
    "df"
   ]
  },
  {
   "cell_type": "code",
   "execution_count": 43,
   "metadata": {},
   "outputs": [
    {
     "data": {
      "text/plain": [
       "<Figure size 1200x400 with 0 Axes>"
      ]
     },
     "metadata": {},
     "output_type": "display_data"
    },
    {
     "data": {
      "image/png": "[encoded data removed]",
      "text/plain": [
       "<Figure size 640x480 with 1 Axes>"
      ]
     },
     "metadata": {},
     "output_type": "display_data"
    }
   ],
   "source": [
    "plt.figure(figsize=(12, 4))\n",
    "plot_acf(df['Amount'], lags=40, title='Autocorrelation Function (ACF)')\n",
    "plt.show()\n",
    "\n",
    "#this graph shows that the lag of 15 days (relationship between today and past 15 days of data is high) is appropritate for modeling time series."
   ]
  },
  {
   "cell_type": "code",
   "execution_count": 44,
   "metadata": {},
   "outputs": [
    {
     "data": {
      "text/plain": [
       "Date\n",
       "2024-03-01      15\n",
       "2024-03-02     200\n",
       "2024-03-04     550\n",
       "2024-03-06     103\n",
       "2024-03-09    2043\n",
       "              ... \n",
       "2024-06-25    1008\n",
       "2024-06-27     190\n",
       "2024-06-28     135\n",
       "2024-06-29     240\n",
       "2024-07-01     800\n",
       "Name: Amount, Length: 80, dtype: int64"
      ]
     },
     "execution_count": 44,
     "metadata": {},
     "output_type": "execute_result"
    }
   ],
   "source": [
    "df['Amount']"
   ]
  },
  {
   "cell_type": "code",
   "execution_count": 60,
   "metadata": {},
   "outputs": [
    {
     "name": "stderr",
     "output_type": "stream",
     "text": [
      "c:\\Users\\arjun\\AppData\\Local\\Programs\\Python\\Python312\\Lib\\site-packages\\statsmodels\\tsa\\base\\tsa_model.py:473: ValueWarning: A date index has been provided, but it has no associated frequency information and so will be ignored when e.g. forecasting.\n",
      "  self._init_dates(dates, freq)\n",
      "c:\\Users\\arjun\\AppData\\Local\\Programs\\Python\\Python312\\Lib\\site-packages\\statsmodels\\tsa\\base\\tsa_model.py:473: ValueWarning: A date index has been provided, but it has no associated frequency information and so will be ignored when e.g. forecasting.\n",
      "  self._init_dates(dates, freq)\n",
      "c:\\Users\\arjun\\AppData\\Local\\Programs\\Python\\Python312\\Lib\\site-packages\\statsmodels\\tsa\\base\\tsa_model.py:473: ValueWarning: A date index has been provided, but it has no associated frequency information and so will be ignored when e.g. forecasting.\n",
      "  self._init_dates(dates, freq)\n",
      "c:\\Users\\arjun\\AppData\\Local\\Programs\\Python\\Python312\\Lib\\site-packages\\statsmodels\\base\\model.py:607: ConvergenceWarning: Maximum Likelihood optimization failed to converge. Check mle_retvals\n",
      "  warnings.warn(\"Maximum Likelihood optimization failed to \"\n"
     ]
    },
    {
     "data": {
      "text/plain": [
       "statsmodels.tsa.arima.model.ARIMAResultsWrapper"
      ]
     },
     "execution_count": 60,
     "metadata": {},
     "output_type": "execute_result"
    }
   ],
   "source": [
    "model_fit = ARIMA(df['Amount'], order = (10, 0, 3)).fit()\n",
    "round(model_fit.params,2)\n",
    "type(model_fit)"
   ]
  },
  {
   "cell_type": "code",
   "execution_count": 72,
   "metadata": {},
   "outputs": [],
   "source": [
    "def ADFuller(train_data:pd.DataFrame) -> pd.Series:\n",
    "    model_stationary:list = adfuller(train_data)\n",
    "    print(model_stationary)\n",
    "    return model_stationary[1]"
   ]
  },
  {
   "cell_type": "code",
   "execution_count": 78,
   "metadata": {},
   "outputs": [],
   "source": [
    "def forecast_spend(train_data:pd.DataFrame,period:int) -> pd.Series:\n",
    "    model_fit:ARIMAResultsWrapper = ARIMA(train_data, order = (10, 0, 0)).fit()\n",
    "    forecast_result = model_fit.forecast(steps=period)\n",
    "    return forecast_result"
   ]
  },
  {
   "cell_type": "code",
   "execution_count": 80,
   "metadata": {},
   "outputs": [
    {
     "name": "stderr",
     "output_type": "stream",
     "text": [
      "c:\\Users\\arjun\\AppData\\Local\\Programs\\Python\\Python312\\Lib\\site-packages\\statsmodels\\tsa\\base\\tsa_model.py:473: ValueWarning: A date index has been provided, but it has no associated frequency information and so will be ignored when e.g. forecasting.\n",
      "  self._init_dates(dates, freq)\n",
      "c:\\Users\\arjun\\AppData\\Local\\Programs\\Python\\Python312\\Lib\\site-packages\\statsmodels\\tsa\\base\\tsa_model.py:473: ValueWarning: A date index has been provided, but it has no associated frequency information and so will be ignored when e.g. forecasting.\n",
      "  self._init_dates(dates, freq)\n",
      "c:\\Users\\arjun\\AppData\\Local\\Programs\\Python\\Python312\\Lib\\site-packages\\statsmodels\\tsa\\base\\tsa_model.py:473: ValueWarning: A date index has been provided, but it has no associated frequency information and so will be ignored when e.g. forecasting.\n",
      "  self._init_dates(dates, freq)\n"
     ]
    },
    {
     "name": "stdout",
     "output_type": "stream",
     "text": [
      "80    1039.394991\n",
      "81     977.004049\n",
      "82     823.446807\n",
      "83     909.542468\n",
      "84     864.550714\n",
      "85     791.091681\n",
      "86     817.395063\n",
      "87     745.014483\n",
      "88     676.928536\n",
      "89     632.042603\n",
      "Name: predicted_mean, dtype: float64\n"
     ]
    },
    {
     "name": "stderr",
     "output_type": "stream",
     "text": [
      "c:\\Users\\arjun\\AppData\\Local\\Programs\\Python\\Python312\\Lib\\site-packages\\statsmodels\\tsa\\base\\tsa_model.py:836: ValueWarning: No supported index is available. Prediction results will be given with an integer index beginning at `start`.\n",
      "  return get_prediction_index(\n",
      "c:\\Users\\arjun\\AppData\\Local\\Programs\\Python\\Python312\\Lib\\site-packages\\statsmodels\\tsa\\base\\tsa_model.py:836: FutureWarning: No supported index is available. In the next version, calling this method in a model without a supported index will result in an exception.\n",
      "  return get_prediction_index(\n"
     ]
    }
   ],
   "source": [
    "print(forecast_spend(train_data=df['Amount'],period=10))"
   ]
  },
  {
   "cell_type": "code",
   "execution_count": 81,
   "metadata": {},
   "outputs": [
    {
     "name": "stdout",
     "output_type": "stream",
     "text": [
      "(np.float64(-1.9832523139793097), np.float64(0.2939643080526035), 3, 6, {'1%': np.float64(-5.354256481481482), '5%': np.float64(-3.6462381481481483), '10%': np.float64(-2.901197777777778)}, np.float64(98.66752729103844))\n",
      "(np.float64(-2.368851522239639), np.float64(0.15072148431968196), 3, 6, {'1%': np.float64(-5.354256481481482), '5%': np.float64(-3.6462381481481483), '10%': np.float64(-2.901197777777778)}, np.float64(91.65412146205564))\n",
      "(np.float64(-1.7755611067033636), np.float64(0.3926606354494918), 3, 6, {'1%': np.float64(-5.354256481481482), '5%': np.float64(-3.6462381481481483), '10%': np.float64(-2.901197777777778)}, np.float64(92.42283096211624))\n",
      "(np.float64(-1.845925400553154), np.float64(0.35791095483759616), 3, 6, {'1%': np.float64(-5.354256481481482), '5%': np.float64(-3.6462381481481483), '10%': np.float64(-2.901197777777778)}, np.float64(91.88261703304919))\n",
      "(np.float64(-1.8331479242097108), np.float64(0.3641332319656386), 3, 6, {'1%': np.float64(-5.354256481481482), '5%': np.float64(-3.6462381481481483), '10%': np.float64(-2.901197777777778)}, np.float64(91.86725323236892))\n",
      "(np.float64(-1.7406049411952567), np.float64(0.41032227721326375), 3, 6, {'1%': np.float64(-5.354256481481482), '5%': np.float64(-3.6462381481481483), '10%': np.float64(-2.901197777777778)}, np.float64(91.84131124505006))\n",
      "(np.float64(-2.477105630749328), np.float64(0.12114460373029007), 0, 9, {'1%': np.float64(-4.473135048010974), '5%': np.float64(-3.28988060356653), '10%': np.float64(-2.7723823456790124)}, np.float64(93.16047887219258))\n",
      "(np.float64(-2.8619406957740967), np.float64(0.04995615880995992), 0, 9, {'1%': np.float64(-4.473135048010974), '5%': np.float64(-3.28988060356653), '10%': np.float64(-2.7723823456790124)}, np.float64(93.66896523653801))\n",
      "(np.float64(-3.4332056048580326), np.float64(0.009877655021339655), 0, 9, {'1%': np.float64(-4.473135048010974), '5%': np.float64(-3.28988060356653), '10%': np.float64(-2.7723823456790124)}, np.float64(95.00908967949793))\n",
      "(np.float64(-3.190597565592046), np.float64(0.02053542074989151), 0, 9, {'1%': np.float64(-4.473135048010974), '5%': np.float64(-3.28988060356653), '10%': np.float64(-2.7723823456790124)}, np.float64(95.49769836559959))\n",
      "(np.float64(-3.5527551398412993), np.float64(0.006731202776495596), 0, 9, {'1%': np.float64(-4.473135048010974), '5%': np.float64(-3.28988060356653), '10%': np.float64(-2.7723823456790124)}, np.float64(96.45995804883331))\n",
      "(np.float64(-3.0518125159053198), np.float64(0.03033096419030518), 0, 9, {'1%': np.float64(-4.473135048010974), '5%': np.float64(-3.28988060356653), '10%': np.float64(-2.7723823456790124)}, np.float64(96.44212362437322))\n",
      "(np.float64(-3.4595054590211736), np.float64(0.009090060288009611), 3, 6, {'1%': np.float64(-5.354256481481482), '5%': np.float64(-3.6462381481481483), '10%': np.float64(-2.901197777777778)}, np.float64(89.60826283036995))\n",
      "(np.float64(-2.97950412143316), np.float64(0.036853297313319454), 2, 7, {'1%': np.float64(-4.9386902332361515), '5%': np.float64(-3.477582857142857), '10%': np.float64(-2.8438679591836733)}, np.float64(88.62117666953989))\n",
      "(np.float64(-47.903755692225296), 0.0, 3, 6, {'1%': np.float64(-5.354256481481482), '5%': np.float64(-3.6462381481481483), '10%': np.float64(-2.901197777777778)}, np.float64(54.51357641994873))\n",
      "(np.float64(-3.4076547799953354), np.float64(0.010700672205671988), 2, 7, {'1%': np.float64(-4.9386902332361515), '5%': np.float64(-3.477582857142857), '10%': np.float64(-2.8438679591836733)}, np.float64(90.02400061819215))\n",
      "(np.float64(-1.7417649961097301), np.float64(0.4097324322049997), 0, 9, {'1%': np.float64(-4.473135048010974), '5%': np.float64(-3.28988060356653), '10%': np.float64(-2.7723823456790124)}, np.float64(111.0576421751309))\n",
      "(np.float64(97.43925109072538), 1.0, 3, 6, {'1%': np.float64(-5.354256481481482), '5%': np.float64(-3.6462381481481483), '10%': np.float64(-2.901197777777778)}, np.float64(55.88034763511168))\n",
      "(np.float64(0.09403271904449036), np.float64(0.9656513106737263), 3, 6, {'1%': np.float64(-5.354256481481482), '5%': np.float64(-3.6462381481481483), '10%': np.float64(-2.901197777777778)}, np.float64(107.34840533114185))\n",
      "(np.float64(0.5320503639202124), np.float64(0.9858153653736316), 3, 6, {'1%': np.float64(-5.354256481481482), '5%': np.float64(-3.6462381481481483), '10%': np.float64(-2.901197777777778)}, np.float64(111.35043150055068))\n",
      "(np.float64(-2.9955399070850546), np.float64(0.035313021363859616), 0, 9, {'1%': np.float64(-4.473135048010974), '5%': np.float64(-3.28988060356653), '10%': np.float64(-2.7723823456790124)}, np.float64(113.30500142751595))\n",
      "(np.float64(-2.9098625710025354), np.float64(0.04421307648448405), 0, 9, {'1%': np.float64(-4.473135048010974), '5%': np.float64(-3.28988060356653), '10%': np.float64(-2.7723823456790124)}, np.float64(113.29157113101873))\n",
      "(np.float64(-184.99847679510688), 0.0, 3, 6, {'1%': np.float64(-5.354256481481482), '5%': np.float64(-3.6462381481481483), '10%': np.float64(-2.901197777777778)}, np.float64(44.169721053529315))\n",
      "(np.float64(-3.0712651248711986), np.float64(0.028754081581443405), 3, 6, {'1%': np.float64(-5.354256481481482), '5%': np.float64(-3.6462381481481483), '10%': np.float64(-2.901197777777778)}, np.float64(63.974384541751725))\n",
      "(np.float64(-1.5711634909816146), np.float64(0.49806083866270207), 3, 6, {'1%': np.float64(-5.354256481481482), '5%': np.float64(-3.6462381481481483), '10%': np.float64(-2.901197777777778)}, np.float64(71.14140492723422))\n",
      "(np.float64(-2.62521724647065), np.float64(0.08789656767967957), 3, 6, {'1%': np.float64(-5.354256481481482), '5%': np.float64(-3.6462381481481483), '10%': np.float64(-2.901197777777778)}, np.float64(68.72937831612269))\n",
      "(np.float64(-1.291233820250396), np.float64(0.6331732477655277), 1, 8, {'1%': np.float64(-4.6651863281249994), '5%': np.float64(-3.3671868750000002), '10%': np.float64(-2.802960625)}, np.float64(74.59957108213283))\n",
      "(np.float64(3.5031806677128685), 1.0, 0, 9, {'1%': np.float64(-4.473135048010974), '5%': np.float64(-3.28988060356653), '10%': np.float64(-2.7723823456790124)}, np.float64(109.45217954716686))\n",
      "(np.float64(-0.8066256965861103), np.float64(0.8171680674320219), 1, 8, {'1%': np.float64(-4.6651863281249994), '5%': np.float64(-3.3671868750000002), '10%': np.float64(-2.802960625)}, np.float64(115.63737965701213))\n",
      "(np.float64(1.5628486463439824), np.float64(0.997741725667559), 2, 7, {'1%': np.float64(-4.9386902332361515), '5%': np.float64(-3.477582857142857), '10%': np.float64(-2.8438679591836733)}, np.float64(115.1293871821744))\n",
      "(np.float64(-3.637752061698118), np.float64(0.0050789781776755735), 3, 6, {'1%': np.float64(-5.354256481481482), '5%': np.float64(-3.6462381481481483), '10%': np.float64(-2.901197777777778)}, np.float64(107.01786539641967))\n",
      "(np.float64(-2.7340260710619892), np.float64(0.06833306633640923), 0, 9, {'1%': np.float64(-4.473135048010974), '5%': np.float64(-3.28988060356653), '10%': np.float64(-2.7723823456790124)}, np.float64(117.75288998800532))\n",
      "(np.float64(-2.7983188514663517), np.float64(0.0585143097303093), 0, 9, {'1%': np.float64(-4.473135048010974), '5%': np.float64(-3.28988060356653), '10%': np.float64(-2.7723823456790124)}, np.float64(117.57575264299687))\n",
      "(np.float64(-20.077866538832296), 0.0, 3, 6, {'1%': np.float64(-5.354256481481482), '5%': np.float64(-3.6462381481481483), '10%': np.float64(-2.901197777777778)}, np.float64(76.61309255912175))\n",
      "(np.float64(-9.666447893739637), np.float64(1.311338008776655e-16), 2, 7, {'1%': np.float64(-4.9386902332361515), '5%': np.float64(-3.477582857142857), '10%': np.float64(-2.8438679591836733)}, np.float64(93.67615524004206))\n",
      "(np.float64(-2.6202992536740872), np.float64(0.08887397939265151), 3, 6, {'1%': np.float64(-5.354256481481482), '5%': np.float64(-3.6462381481481483), '10%': np.float64(-2.901197777777778)}, np.float64(91.62924175477478))\n",
      "(np.float64(-2.5514291429310942), np.float64(0.10345703198496742), 3, 6, {'1%': np.float64(-5.354256481481482), '5%': np.float64(-3.6462381481481483), '10%': np.float64(-2.901197777777778)}, np.float64(91.63362834423562))\n",
      "(np.float64(-2.9837709474111884), np.float64(0.03643803688282185), 3, 6, {'1%': np.float64(-5.354256481481482), '5%': np.float64(-3.6462381481481483), '10%': np.float64(-2.901197777777778)}, np.float64(89.97594125903913))\n",
      "(np.float64(-3.1571640358405566), np.float64(0.022601985025647812), 0, 9, {'1%': np.float64(-4.473135048010974), '5%': np.float64(-3.28988060356653), '10%': np.float64(-2.7723823456790124)}, np.float64(94.33220306237249))\n",
      "(np.float64(0.1468370602850047), np.float64(0.9691171724745863), 3, 6, {'1%': np.float64(-5.354256481481482), '5%': np.float64(-3.6462381481481483), '10%': np.float64(-2.901197777777778)}, np.float64(90.01096193300262))\n",
      "(np.float64(-0.43091933259252607), np.float64(0.9048069550279252), 3, 6, {'1%': np.float64(-5.354256481481482), '5%': np.float64(-3.6462381481481483), '10%': np.float64(-2.901197777777778)}, np.float64(91.63918538015385))\n",
      "(np.float64(-7.720533346181012), np.float64(1.195964587766295e-11), 3, 6, {'1%': np.float64(-5.354256481481482), '5%': np.float64(-3.6462381481481483), '10%': np.float64(-2.901197777777778)}, np.float64(66.49604582192039))\n",
      "(np.float64(-2.5331997810034395), np.float64(0.10760397892816254), 1, 8, {'1%': np.float64(-4.6651863281249994), '5%': np.float64(-3.3671868750000002), '10%': np.float64(-2.802960625)}, np.float64(92.96957510929279))\n",
      "(np.float64(-6.573017164109942), np.float64(7.849808205532893e-09), 3, 6, {'1%': np.float64(-5.354256481481482), '5%': np.float64(-3.6462381481481483), '10%': np.float64(-2.901197777777778)}, np.float64(75.1761266203322))\n",
      "(np.float64(-0.5703016466192847), np.float64(0.8775524318698888), 2, 7, {'1%': np.float64(-4.9386902332361515), '5%': np.float64(-3.477582857142857), '10%': np.float64(-2.8438679591836733)}, np.float64(93.51349405814801))\n",
      "(np.float64(-2.8257345755123913), np.float64(0.05469075403267361), 0, 9, {'1%': np.float64(-4.473135048010974), '5%': np.float64(-3.28988060356653), '10%': np.float64(-2.7723823456790124)}, np.float64(94.94535616947532))\n",
      "(np.float64(-3.5320511408303044), np.float64(0.007201111539293842), 0, 9, {'1%': np.float64(-4.473135048010974), '5%': np.float64(-3.28988060356653), '10%': np.float64(-2.7723823456790124)}, np.float64(93.74411917214837))\n",
      "(np.float64(-3.2638363823308794), np.float64(0.01657443437639349), 0, 9, {'1%': np.float64(-4.473135048010974), '5%': np.float64(-3.28988060356653), '10%': np.float64(-2.7723823456790124)}, np.float64(94.13044374701393))\n",
      "(np.float64(-1.797619572955494), np.float64(0.38164414837396704), 1, 8, {'1%': np.float64(-4.6651863281249994), '5%': np.float64(-3.3671868750000002), '10%': np.float64(-2.802960625)}, np.float64(84.56746963932062))\n",
      "(np.float64(-1.423957763814474), np.float64(0.570738111238136), 1, 8, {'1%': np.float64(-4.6651863281249994), '5%': np.float64(-3.3671868750000002), '10%': np.float64(-2.802960625)}, np.float64(83.92491840908987))\n",
      "(np.float64(-2.9140296134704635), np.float64(0.04374069940306233), 0, 9, {'1%': np.float64(-4.473135048010974), '5%': np.float64(-3.28988060356653), '10%': np.float64(-2.7723823456790124)}, np.float64(92.25819217197815))\n",
      "(np.float64(-4.318753376309593), np.float64(0.00041214309886524044), 3, 6, {'1%': np.float64(-5.354256481481482), '5%': np.float64(-3.6462381481481483), '10%': np.float64(-2.901197777777778)}, np.float64(81.9307300313489))\n",
      "(np.float64(-4.039173398701518), np.float64(0.0012187223567025579), 0, 9, {'1%': np.float64(-4.473135048010974), '5%': np.float64(-3.28988060356653), '10%': np.float64(-2.7723823456790124)}, np.float64(93.32847997951585))\n",
      "(np.float64(-3.9454189023697106), np.float64(0.0017248850847842413), 0, 9, {'1%': np.float64(-4.473135048010974), '5%': np.float64(-3.28988060356653), '10%': np.float64(-2.7723823456790124)}, np.float64(93.32884162472759))\n",
      "(np.float64(-3.455418363835346), np.float64(0.009208639722697242), 0, 9, {'1%': np.float64(-4.473135048010974), '5%': np.float64(-3.28988060356653), '10%': np.float64(-2.7723823456790124)}, np.float64(92.75495494601141))\n",
      "(np.float64(-1.5770874178657166), np.float64(0.4950921882502713), 1, 8, {'1%': np.float64(-4.6651863281249994), '5%': np.float64(-3.3671868750000002), '10%': np.float64(-2.802960625)}, np.float64(87.73591364656038))\n",
      "(np.float64(-2.9675012746948233), np.float64(0.038042859044058054), 0, 9, {'1%': np.float64(-4.473135048010974), '5%': np.float64(-3.28988060356653), '10%': np.float64(-2.7723823456790124)}, np.float64(84.73847433313358))\n",
      "(np.float64(1.1341734184648504), np.float64(0.9954979806814186), 3, 6, {'1%': np.float64(-5.354256481481482), '5%': np.float64(-3.6462381481481483), '10%': np.float64(-2.901197777777778)}, np.float64(110.55708398201763))\n",
      "(np.float64(-0.08976431657931125), np.float64(0.9504485517281193), 1, 8, {'1%': np.float64(-4.6651863281249994), '5%': np.float64(-3.3671868750000002), '10%': np.float64(-2.802960625)}, np.float64(109.72373886382198))\n",
      "(np.float64(1.6148528054225875), np.float64(0.9979014585258805), 3, 6, {'1%': np.float64(-5.354256481481482), '5%': np.float64(-3.6462381481481483), '10%': np.float64(-2.901197777777778)}, np.float64(105.97911038705148))\n",
      "(np.float64(1.3222512933974844), np.float64(0.9967306622712977), 3, 6, {'1%': np.float64(-5.354256481481482), '5%': np.float64(-3.6462381481481483), '10%': np.float64(-2.901197777777778)}, np.float64(107.55638888984903))\n",
      "(np.float64(-3.799565810085842), np.float64(0.002911760449177817), 0, 9, {'1%': np.float64(-4.473135048010974), '5%': np.float64(-3.28988060356653), '10%': np.float64(-2.7723823456790124)}, np.float64(110.04824478758026))\n",
      "(np.float64(-3.532066350138691), np.float64(0.007200755740904523), 0, 9, {'1%': np.float64(-4.473135048010974), '5%': np.float64(-3.28988060356653), '10%': np.float64(-2.7723823456790124)}, np.float64(111.17502291260918))\n",
      "(np.float64(-0.10266545602385783), np.float64(0.9491723957364517), 3, 6, {'1%': np.float64(-5.354256481481482), '5%': np.float64(-3.6462381481481483), '10%': np.float64(-2.901197777777778)}, np.float64(93.57533331225859))\n",
      "(np.float64(-1.8091028965431608), np.float64(0.3759518151978741), 2, 7, {'1%': np.float64(-4.9386902332361515), '5%': np.float64(-3.477582857142857), '10%': np.float64(-2.8438679591836733)}, np.float64(94.08829333872316))\n",
      "(np.float64(-1.0999971010687206), np.float64(0.7150730612236483), 2, 7, {'1%': np.float64(-4.9386902332361515), '5%': np.float64(-3.477582857142857), '10%': np.float64(-2.8438679591836733)}, np.float64(79.27947183779271))\n",
      "(np.float64(-5.246437783005845), np.float64(7.062543076473811e-06), 2, 7, {'1%': np.float64(-4.9386902332361515), '5%': np.float64(-3.477582857142857), '10%': np.float64(-2.8438679591836733)}, np.float64(85.75282103055454))\n",
      "(np.float64(-3.8059026699242473), np.float64(0.002847497044436327), 3, 6, {'1%': np.float64(-5.354256481481482), '5%': np.float64(-3.6462381481481483), '10%': np.float64(-2.901197777777778)}, np.float64(75.10642162697638))\n",
      "(np.float64(-41.401423702173325), 0.0, 3, 6, {'1%': np.float64(-5.354256481481482), '5%': np.float64(-3.6462381481481483), '10%': np.float64(-2.901197777777778)}, np.float64(39.40718448806262))\n",
      "(np.float64(-4.921454554435246), np.float64(3.167154105964834e-05), 1, 8, {'1%': np.float64(-4.6651863281249994), '5%': np.float64(-3.3671868750000002), '10%': np.float64(-2.802960625)}, np.float64(86.77647371004467))\n",
      "(np.float64(-5.888078028431156), np.float64(2.968852141277632e-07), 1, 8, {'1%': np.float64(-4.6651863281249994), '5%': np.float64(-3.3671868750000002), '10%': np.float64(-2.802960625)}, np.float64(87.53518316398356))\n"
     ]
    }
   ],
   "source": [
    "df['adfuller'] = df['Amount'].rolling(10).apply(ADFuller)"
   ]
  },
  {
   "cell_type": "code",
   "execution_count": 82,
   "metadata": {},
   "outputs": [
    {
     "data": {
      "text/html": [
       "<div>\n",
       "<style scoped>\n",
       "    .dataframe tbody tr th:only-of-type {\n",
       "        vertical-align: middle;\n",
       "    }\n",
       "\n",
       "    .dataframe tbody tr th {\n",
       "        vertical-align: top;\n",
       "    }\n",
       "\n",
       "    .dataframe thead th {\n",
       "        text-align: right;\n",
       "    }\n",
       "</style>\n",
       "<table border=\"1\" class=\"dataframe\">\n",
       "  <thead>\n",
       "    <tr style=\"text-align: right;\">\n",
       "      <th></th>\n",
       "      <th>Amount</th>\n",
       "      <th>adfuller</th>\n",
       "    </tr>\n",
       "    <tr>\n",
       "      <th>Date</th>\n",
       "      <th></th>\n",
       "      <th></th>\n",
       "    </tr>\n",
       "  </thead>\n",
       "  <tbody>\n",
       "    <tr>\n",
       "      <th>2024-03-01</th>\n",
       "      <td>15</td>\n",
       "      <td>NaN</td>\n",
       "    </tr>\n",
       "    <tr>\n",
       "      <th>2024-03-02</th>\n",
       "      <td>200</td>\n",
       "      <td>NaN</td>\n",
       "    </tr>\n",
       "    <tr>\n",
       "      <th>2024-03-04</th>\n",
       "      <td>550</td>\n",
       "      <td>NaN</td>\n",
       "    </tr>\n",
       "    <tr>\n",
       "      <th>2024-03-06</th>\n",
       "      <td>103</td>\n",
       "      <td>NaN</td>\n",
       "    </tr>\n",
       "    <tr>\n",
       "      <th>2024-03-09</th>\n",
       "      <td>2043</td>\n",
       "      <td>NaN</td>\n",
       "    </tr>\n",
       "    <tr>\n",
       "      <th>2024-03-10</th>\n",
       "      <td>170</td>\n",
       "      <td>NaN</td>\n",
       "    </tr>\n",
       "    <tr>\n",
       "      <th>2024-03-13</th>\n",
       "      <td>60</td>\n",
       "      <td>NaN</td>\n",
       "    </tr>\n",
       "    <tr>\n",
       "      <th>2024-03-14</th>\n",
       "      <td>90</td>\n",
       "      <td>NaN</td>\n",
       "    </tr>\n",
       "    <tr>\n",
       "      <th>2024-03-15</th>\n",
       "      <td>495</td>\n",
       "      <td>NaN</td>\n",
       "    </tr>\n",
       "    <tr>\n",
       "      <th>2024-03-16</th>\n",
       "      <td>755</td>\n",
       "      <td>0.293964</td>\n",
       "    </tr>\n",
       "    <tr>\n",
       "      <th>2024-03-19</th>\n",
       "      <td>1240</td>\n",
       "      <td>0.150721</td>\n",
       "    </tr>\n",
       "    <tr>\n",
       "      <th>2024-03-20</th>\n",
       "      <td>65</td>\n",
       "      <td>0.392661</td>\n",
       "    </tr>\n",
       "    <tr>\n",
       "      <th>2024-03-22</th>\n",
       "      <td>307</td>\n",
       "      <td>0.357911</td>\n",
       "    </tr>\n",
       "    <tr>\n",
       "      <th>2024-03-23</th>\n",
       "      <td>242</td>\n",
       "      <td>0.364133</td>\n",
       "    </tr>\n",
       "    <tr>\n",
       "      <th>2024-03-24</th>\n",
       "      <td>575</td>\n",
       "      <td>0.410322</td>\n",
       "    </tr>\n",
       "    <tr>\n",
       "      <th>2024-03-26</th>\n",
       "      <td>55</td>\n",
       "      <td>0.121145</td>\n",
       "    </tr>\n",
       "    <tr>\n",
       "      <th>2024-03-29</th>\n",
       "      <td>1563</td>\n",
       "      <td>0.049956</td>\n",
       "    </tr>\n",
       "    <tr>\n",
       "      <th>2024-03-30</th>\n",
       "      <td>550</td>\n",
       "      <td>0.009878</td>\n",
       "    </tr>\n",
       "    <tr>\n",
       "      <th>2024-04-01</th>\n",
       "      <td>40</td>\n",
       "      <td>0.020535</td>\n",
       "    </tr>\n",
       "    <tr>\n",
       "      <th>2024-04-03</th>\n",
       "      <td>15</td>\n",
       "      <td>0.006731</td>\n",
       "    </tr>\n",
       "  </tbody>\n",
       "</table>\n",
       "</div>"
      ],
      "text/plain": [
       "            Amount  adfuller\n",
       "Date                        \n",
       "2024-03-01      15       NaN\n",
       "2024-03-02     200       NaN\n",
       "2024-03-04     550       NaN\n",
       "2024-03-06     103       NaN\n",
       "2024-03-09    2043       NaN\n",
       "2024-03-10     170       NaN\n",
       "2024-03-13      60       NaN\n",
       "2024-03-14      90       NaN\n",
       "2024-03-15     495       NaN\n",
       "2024-03-16     755  0.293964\n",
       "2024-03-19    1240  0.150721\n",
       "2024-03-20      65  0.392661\n",
       "2024-03-22     307  0.357911\n",
       "2024-03-23     242  0.364133\n",
       "2024-03-24     575  0.410322\n",
       "2024-03-26      55  0.121145\n",
       "2024-03-29    1563  0.049956\n",
       "2024-03-30     550  0.009878\n",
       "2024-04-01      40  0.020535\n",
       "2024-04-03      15  0.006731"
      ]
     },
     "execution_count": 82,
     "metadata": {},
     "output_type": "execute_result"
    }
   ],
   "source": [
    "df.head(20)"
   ]
  },
  {
   "cell_type": "code",
   "execution_count": 88,
   "metadata": {},
   "outputs": [
    {
     "name": "stdout",
     "output_type": "stream",
     "text": [
      "ADF Statistic: -2.10555044243025\n",
      "p-value: 0.2422886059977568\n",
      "Critical Values: {'1%': np.float64(-6.045114), '5%': np.float64(-3.9292800000000003), '10%': np.float64(-2.98681)}\n"
     ]
    }
   ],
   "source": [
    "data = [755, 1240, 65, 307, 242, 575, 55, 1563]\n",
    "result = adfuller(data)\n",
    "\n",
    "print(\"ADF Statistic:\", result[0])\n",
    "print(\"p-value:\", result[1])\n",
    "print(\"Critical Values:\", result[4])"
   ]
  },
  {
   "cell_type": "code",
   "execution_count": 89,
   "metadata": {},
   "outputs": [
    {
     "data": {
      "text/plain": [
       "<Axes: >"
      ]
     },
     "execution_count": 89,
     "metadata": {},
     "output_type": "execute_result"
    },
    {
     "data": {
      "image/png": "[encoded data removed]",
      "text/plain": [
       "<Figure size 640x480 with 1 Axes>"
      ]
     },
     "metadata": {},
     "output_type": "display_data"
    }
   ],
   "source": [
    "ser = pd.Series(data)\n",
    "ser.plot(kind='line')"
   ]
  },
  {
   "cell_type": "code",
   "execution_count": null,
   "metadata": {},
   "outputs": [],
   "source": []
  }
 ],
 "metadata": {
  "kernelspec": {
   "display_name": "Python 3",
   "language": "python",
   "name": "python3"
  },
  "language_info": {
   "codemirror_mode": {
    "name": "ipython",
    "version": 3
   },
   "file_extension": ".py",
   "mimetype": "text/x-python",
   "name": "python",
   "nbconvert_exporter": "python",
   "pygments_lexer": "ipython3",
   "version": "3.12.4"
  }
 },
 "nbformat": 4,
 "nbformat_minor": 2
}
